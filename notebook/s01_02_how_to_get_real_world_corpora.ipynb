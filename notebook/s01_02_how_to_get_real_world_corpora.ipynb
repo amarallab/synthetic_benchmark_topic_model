{
 "cells": [
  {
   "cell_type": "code",
   "execution_count": 1,
   "metadata": {
    "collapsed": false
   },
   "outputs": [
    {
     "data": {
      "text/html": [
       "<style>.container { width:100% !important; }</style>"
      ],
      "text/plain": [
       "<IPython.core.display.HTML object>"
      ]
     },
     "metadata": {},
     "output_type": "display_data"
    }
   ],
   "source": [
    "## Pre-setting\n",
    "# automatically adjust the width of the notebook code cell\n",
    "from IPython.core.display import display, HTML\n",
    "display(HTML(\"<style>.container { width:100% !important; }</style>\"))\n",
    "\n",
    "# if one module is changed, this line will automatically reload that module\n",
    "%load_ext autoreload\n",
    "%autoreload 2\n",
    "\n",
    "# display the figure in the notebook\n",
    "%matplotlib inline\n",
    "\n",
    "# To change the font size in acrobat\n",
    "import matplotlib as mpl\n",
    "mpl.rcParams['pdf.fonttype'] = 42"
   ]
  },
  {
   "cell_type": "code",
   "execution_count": 2,
   "metadata": {
    "collapsed": true
   },
   "outputs": [],
   "source": [
    "## Add path\n",
    "import os\n",
    "import sys\n",
    "src_dir = os.path.abspath(os.path.join(os.pardir, 'src'))\n",
    "if src_dir not in sys.path:\n",
    "    sys.path.insert(0, src_dir)"
   ]
  },
  {
   "cell_type": "code",
   "execution_count": null,
   "metadata": {
    "collapsed": true
   },
   "outputs": [],
   "source": []
  },
  {
   "cell_type": "code",
   "execution_count": 3,
   "metadata": {
    "collapsed": true
   },
   "outputs": [],
   "source": [
    "from corpora.realcorpora import get_raw_real_world_corpus, get_topic_text_reuter_wordid_withstop"
   ]
  },
  {
   "cell_type": "code",
   "execution_count": null,
   "metadata": {
    "collapsed": true
   },
   "outputs": [],
   "source": []
  },
  {
   "cell_type": "markdown",
   "metadata": {
    "collapsed": true
   },
   "source": [
    "## read data"
   ]
  },
  {
   "cell_type": "markdown",
   "metadata": {},
   "source": [
    "There are two way to get the real-world corpora:\n",
    "\n",
    "1. function \"get_raw_real_world_corpus()\" diectly obtain the raw text data \n",
    "2. function \"get_topic_text_reuter_wordid_withstop()\" equips with more pre-processing funtionalities, such as removing a fixed fraction of stopword, fixing the document length, etc.\n",
    "\n"
   ]
  },
  {
   "cell_type": "markdown",
   "metadata": {},
   "source": [
    "### Raw text data"
   ]
  },
  {
   "cell_type": "raw",
   "metadata": {},
   "source": [
    "'''\n",
    "    if which_data == 1:\n",
    "        data_save_file = 'reuters_filter_10largest_dic.json'\n",
    "        which_file = 'reuters_10largest'\n",
    "'''"
   ]
  },
  {
   "cell_type": "code",
   "execution_count": 4,
   "metadata": {
    "collapsed": false
   },
   "outputs": [],
   "source": [
    "corpus_id = 1\n",
    "(K_pp, which_file, topic_list_true, texts_list) = get_raw_real_world_corpus(corpus_id)"
   ]
  },
  {
   "cell_type": "code",
   "execution_count": 5,
   "metadata": {
    "collapsed": false
   },
   "outputs": [
    {
     "data": {
      "text/plain": [
       "10"
      ]
     },
     "execution_count": 5,
     "metadata": {},
     "output_type": "execute_result"
    }
   ],
   "source": [
    "# number of catogaries in the real corpora\n",
    "K_pp"
   ]
  },
  {
   "cell_type": "code",
   "execution_count": 6,
   "metadata": {
    "collapsed": false
   },
   "outputs": [
    {
     "data": {
      "text/plain": [
       "'reuters_10largest'"
      ]
     },
     "execution_count": 6,
     "metadata": {},
     "output_type": "execute_result"
    }
   ],
   "source": [
    "# name of catogaries in the real corpora\n",
    "which_file"
   ]
  },
  {
   "cell_type": "code",
   "execution_count": 7,
   "metadata": {
    "collapsed": false
   },
   "outputs": [
    {
     "data": {
      "text/plain": [
       "(7518, [0, 0, 0, 0, 0, 0, 0, 0, 0, 0])"
      ]
     },
     "execution_count": 7,
     "metadata": {},
     "output_type": "execute_result"
    }
   ],
   "source": [
    "len(topic_list_true), topic_list_true[:10]"
   ]
  },
  {
   "cell_type": "code",
   "execution_count": 8,
   "metadata": {
    "collapsed": false
   },
   "outputs": [
    {
     "data": {
      "text/plain": [
       "(7518,\n",
       " ['computer',\n",
       "  'terminal',\n",
       "  'systems',\n",
       "  'inc',\n",
       "  'said',\n",
       "  'it',\n",
       "  'has',\n",
       "  'completed',\n",
       "  'the',\n",
       "  'sale',\n",
       "  'of',\n",
       "  'shares',\n",
       "  'of',\n",
       "  'its',\n",
       "  'common',\n",
       "  'stock',\n",
       "  'and',\n",
       "  'warrants',\n",
       "  'to',\n",
       "  'acquire',\n",
       "  'an',\n",
       "  'additional',\n",
       "  'one',\n",
       "  'mln',\n",
       "  'shares',\n",
       "  'to',\n",
       "  'lt',\n",
       "  'sedio',\n",
       "  'of',\n",
       "  'lugano',\n",
       "  'switzerland',\n",
       "  'for',\n",
       "  'dlrs',\n",
       "  'the',\n",
       "  'company',\n",
       "  'said',\n",
       "  'the',\n",
       "  'warrants',\n",
       "  'are',\n",
       "  'exercisable',\n",
       "  'for',\n",
       "  'five',\n",
       "  'years',\n",
       "  'at',\n",
       "  'a',\n",
       "  'purchase',\n",
       "  'price',\n",
       "  'of',\n",
       "  'dlrs',\n",
       "  'per',\n",
       "  'share',\n",
       "  'computer',\n",
       "  'terminal',\n",
       "  'said',\n",
       "  'sedio',\n",
       "  'also',\n",
       "  'has',\n",
       "  'the',\n",
       "  'right',\n",
       "  'to',\n",
       "  'buy',\n",
       "  'additional',\n",
       "  'shares',\n",
       "  'and',\n",
       "  'increase',\n",
       "  'its',\n",
       "  'total',\n",
       "  'holdings',\n",
       "  'up',\n",
       "  'to',\n",
       "  'pct',\n",
       "  'of',\n",
       "  'the',\n",
       "  'computer',\n",
       "  'terminal',\n",
       "  'outstanding',\n",
       "  'common',\n",
       "  'stock',\n",
       "  'under',\n",
       "  'certain',\n",
       "  'circumstances',\n",
       "  'involving',\n",
       "  'change',\n",
       "  'of',\n",
       "  'control',\n",
       "  'at',\n",
       "  'the',\n",
       "  'company',\n",
       "  'the',\n",
       "  'company',\n",
       "  'said',\n",
       "  'if',\n",
       "  'the',\n",
       "  'conditions',\n",
       "  'occur',\n",
       "  'the',\n",
       "  'warrants',\n",
       "  'would',\n",
       "  'be',\n",
       "  'exercisable',\n",
       "  'at',\n",
       "  'a',\n",
       "  'price',\n",
       "  'equal',\n",
       "  'to',\n",
       "  'pct',\n",
       "  'of',\n",
       "  'its',\n",
       "  'common',\n",
       "  'market',\n",
       "  'price',\n",
       "  'at',\n",
       "  'the',\n",
       "  'time',\n",
       "  'not',\n",
       "  'to',\n",
       "  'exceed',\n",
       "  'dlrs',\n",
       "  'per',\n",
       "  'share',\n",
       "  'computer',\n",
       "  'terminal',\n",
       "  'also',\n",
       "  'said',\n",
       "  'it',\n",
       "  'sold',\n",
       "  'the',\n",
       "  'technolgy',\n",
       "  'rights',\n",
       "  'to',\n",
       "  'its',\n",
       "  'dot',\n",
       "  'matrix',\n",
       "  'impact',\n",
       "  'technology',\n",
       "  'including',\n",
       "  'any',\n",
       "  'future',\n",
       "  'improvements',\n",
       "  'to',\n",
       "  'lt',\n",
       "  'woodco',\n",
       "  'inc',\n",
       "  'of',\n",
       "  'houston',\n",
       "  'tex',\n",
       "  'for',\n",
       "  'dlrs',\n",
       "  'but',\n",
       "  'it',\n",
       "  'said',\n",
       "  'it',\n",
       "  'would',\n",
       "  'continue',\n",
       "  'to',\n",
       "  'be',\n",
       "  'the',\n",
       "  'exclusive',\n",
       "  'worldwide',\n",
       "  'licensee',\n",
       "  'of',\n",
       "  'the',\n",
       "  'technology',\n",
       "  'for',\n",
       "  'woodco',\n",
       "  'the',\n",
       "  'company',\n",
       "  'said',\n",
       "  'the',\n",
       "  'moves',\n",
       "  'were',\n",
       "  'part',\n",
       "  'of',\n",
       "  'its',\n",
       "  'reorganization',\n",
       "  'plan',\n",
       "  'and',\n",
       "  'would',\n",
       "  'help',\n",
       "  'pay',\n",
       "  'current',\n",
       "  'operation',\n",
       "  'costs',\n",
       "  'and',\n",
       "  'ensure',\n",
       "  'product',\n",
       "  'delivery',\n",
       "  'computer',\n",
       "  'terminal',\n",
       "  'makes',\n",
       "  'computer',\n",
       "  'generated',\n",
       "  'labels',\n",
       "  'forms',\n",
       "  'tags',\n",
       "  'and',\n",
       "  'ticket',\n",
       "  'printers',\n",
       "  'and',\n",
       "  'terminals'],\n",
       " 200)"
      ]
     },
     "execution_count": 8,
     "metadata": {},
     "output_type": "execute_result"
    }
   ],
   "source": [
    "len(texts_list), texts_list[0], len(texts_list[0])"
   ]
  },
  {
   "cell_type": "code",
   "execution_count": 9,
   "metadata": {
    "collapsed": true
   },
   "outputs": [],
   "source": [
    "### Preprocessed text data (removing 10% of the stopword, fixing docment length at 20)"
   ]
  },
  {
   "cell_type": "code",
   "execution_count": 10,
   "metadata": {
    "collapsed": false
   },
   "outputs": [
    {
     "name": "stdout",
     "output_type": "stream",
     "text": [
      "CPU times: user 16.7 s, sys: 172 ms, total: 16.9 s\n",
      "Wall time: 17 s\n"
     ]
    }
   ],
   "source": [
    "%%time\n",
    "(K_pp, which_file, topic_list_true, texts_list) = get_topic_text_reuter_wordid_withstop(corpus_id, flag_fix_stopword=1, set_ps=.1, flag_fix_length=1, set_docLength=20)"
   ]
  },
  {
   "cell_type": "code",
   "execution_count": 11,
   "metadata": {
    "collapsed": false
   },
   "outputs": [
    {
     "data": {
      "text/plain": [
       "10"
      ]
     },
     "execution_count": 11,
     "metadata": {},
     "output_type": "execute_result"
    }
   ],
   "source": [
    "# number of catogaries in the real corpora\n",
    "K_pp"
   ]
  },
  {
   "cell_type": "code",
   "execution_count": 12,
   "metadata": {
    "collapsed": false
   },
   "outputs": [
    {
     "data": {
      "text/plain": [
       "'reuters_10largest'"
      ]
     },
     "execution_count": 12,
     "metadata": {},
     "output_type": "execute_result"
    }
   ],
   "source": [
    "# name of catogaries in the real corpora\n",
    "which_file"
   ]
  },
  {
   "cell_type": "code",
   "execution_count": 13,
   "metadata": {
    "collapsed": false
   },
   "outputs": [
    {
     "data": {
      "text/plain": [
       "(5962, [0, 0, 0, 0, 0, 0, 0, 0, 0, 0])"
      ]
     },
     "execution_count": 13,
     "metadata": {},
     "output_type": "execute_result"
    }
   ],
   "source": [
    "len(topic_list_true), topic_list_true[:10]"
   ]
  },
  {
   "cell_type": "code",
   "execution_count": 14,
   "metadata": {
    "collapsed": false
   },
   "outputs": [
    {
     "data": {
      "text/plain": [
       "(5962,\n",
       " ['company',\n",
       "  'its',\n",
       "  'tex',\n",
       "  'company',\n",
       "  'terminal',\n",
       "  'sold',\n",
       "  'years',\n",
       "  'plan',\n",
       "  'continue',\n",
       "  'reorganization',\n",
       "  'purchase',\n",
       "  'share',\n",
       "  'sedio',\n",
       "  'dlrs',\n",
       "  'warrants',\n",
       "  'stock',\n",
       "  'tags',\n",
       "  'exercisable',\n",
       "  'operation',\n",
       "  'current'],\n",
       " 20)"
      ]
     },
     "execution_count": 14,
     "metadata": {},
     "output_type": "execute_result"
    }
   ],
   "source": [
    "len(texts_list), texts_list[0], len( texts_list[0])"
   ]
  },
  {
   "cell_type": "code",
   "execution_count": null,
   "metadata": {
    "collapsed": true
   },
   "outputs": [],
   "source": []
  },
  {
   "cell_type": "code",
   "execution_count": null,
   "metadata": {
    "collapsed": true
   },
   "outputs": [],
   "source": []
  },
  {
   "cell_type": "code",
   "execution_count": null,
   "metadata": {
    "collapsed": true
   },
   "outputs": [],
   "source": []
  }
 ],
 "metadata": {
  "kernelspec": {
   "display_name": "Python 3",
   "language": "python",
   "name": "python3"
  },
  "language_info": {
   "codemirror_mode": {
    "name": "ipython",
    "version": 3
   },
   "file_extension": ".py",
   "mimetype": "text/x-python",
   "name": "python",
   "nbconvert_exporter": "python",
   "pygments_lexer": "ipython3",
   "version": "3.5.0"
  }
 },
 "nbformat": 4,
 "nbformat_minor": 1
}
